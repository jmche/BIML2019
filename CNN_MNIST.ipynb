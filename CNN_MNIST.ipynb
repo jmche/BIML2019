{
  "nbformat": 4,
  "nbformat_minor": 0,
  "metadata": {
    "colab": {
      "name": "CNN_MNIST",
      "version": "0.3.2",
      "provenance": [],
      "collapsed_sections": [],
      "include_colab_link": true
    },
    "kernelspec": {
      "name": "python3",
      "display_name": "Python 3"
    }
  },
  "cells": [
    {
      "cell_type": "markdown",
      "metadata": {
        "id": "view-in-github",
        "colab_type": "text"
      },
      "source": [
        "<a href=\"https://colab.research.google.com/github/sanglee/BIML2019/blob/master/CNN_MNIST.ipynb\" target=\"_parent\"><img src=\"https://colab.research.google.com/assets/colab-badge.svg\" alt=\"Open In Colab\"/></a>"
      ]
    },
    {
      "metadata": {
        "id": "iq4PO1UcclmD",
        "colab_type": "code",
        "colab": {
          "base_uri": "https://localhost:8080/",
          "height": 106
        },
        "outputId": "7e480f02-5488-4c3b-fe3e-39404ac2920b"
      },
      "cell_type": "code",
      "source": [
        "'''\n",
        "CNN to classify MNIST handwritten digits\n",
        "'''\n",
        "\n",
        "import tensorflow as tf\n",
        "import keras\n",
        "import numpy as np\n",
        "import matplotlib.pyplot as plt\n",
        "\n",
        "# Read in MNIST data\n",
        "from tensorflow.examples.tutorials.mnist import input_data\n",
        "mnist = input_data.read_data_sets(\"./data/mnist\", one_hot=True)\n",
        "\n",
        "# Parameters\n",
        "learning_rate = 0.001\n",
        "training_iters = 20000\n",
        "batch_size = 128\n",
        "display_step = 10\n",
        "\n",
        "# Network Parameters\n",
        "n_input = 784 # input image shape = 28*28 grey scale\n",
        "n_classes = 10 # 10 classes (0-9 digits)\n",
        "dropout = 0.25 # probability to remove units during dropout"
      ],
      "execution_count": 20,
      "outputs": [
        {
          "output_type": "stream",
          "text": [
            "Using TensorFlow backend.\n"
          ],
          "name": "stderr"
        },
        {
          "output_type": "stream",
          "text": [
            "Extracting ../data/mnist/train-images-idx3-ubyte.gz\n",
            "Extracting ../data/mnist/train-labels-idx1-ubyte.gz\n",
            "Extracting ../data/mnist/t10k-images-idx3-ubyte.gz\n",
            "Extracting ../data/mnist/t10k-labels-idx1-ubyte.gz\n"
          ],
          "name": "stdout"
        }
      ]
    },
    {
      "metadata": {
        "id": "PRPapEFmdXD8",
        "colab_type": "code",
        "colab": {}
      },
      "cell_type": "code",
      "source": [
        "# tf Graph input\n",
        "x = tf.placeholder(tf.float32, [None, n_input])\n",
        "y = tf.placeholder(tf.float32, [None, n_classes])\n",
        "keep_prob = tf.placeholder(tf.float32) # dropout (keep probability)\n"
      ],
      "execution_count": 0,
      "outputs": []
    },
    {
      "metadata": {
        "id": "7UTKO4fMdbsT",
        "colab_type": "code",
        "colab": {}
      },
      "cell_type": "code",
      "source": [
        "def reshape(x, xdim, ydim):\n",
        "    return tf.reshape(x, shape=[-1, xdim, ydim, 1])\n",
        "\n",
        "def conv2d(x, filters, size, stride=1):\n",
        "    out = tf.layers.conv2d(x, filters=filters, kernel_size=[size,size], strides=[stride, stride], padding='same',\n",
        "                         activation='relu', \n",
        "                         kernel_initializer=tf.contrib.layers.xavier_initializer(),\n",
        "                         bias_initializer=tf.zeros_initializer())\n",
        "    return out\n",
        "\n",
        "def maxpool2d(x, size=2, stride=2):\n",
        "    # MaxPool2D wrapper\n",
        "    return tf.layers.max_pooling2d(x, pool_size=[size, size], strides=[stride, stride], padding='same')"
      ],
      "execution_count": 0,
      "outputs": []
    },
    {
      "metadata": {
        "id": "udBoZhBzdeBY",
        "colab_type": "code",
        "colab": {}
      },
      "cell_type": "code",
      "source": [
        "# Create model\n",
        "def conv_net(x, weights, biases, dropout):\n",
        "    # Reshape input picture\n",
        "    x = reshape(x, 28, 28)\n",
        "\n",
        "    # Convolution Layer\n",
        "    conv1 = conv2d(x, 32, 5)\n",
        "    print(\"Conv 1 = \", conv1)\n",
        "    # Max Pooling (down-sampling)\n",
        "    conv1 = maxpool2d(conv1, size=2, stride=2)\n",
        "    print(\"Conv 1 = \", conv1)\n",
        "\n",
        "    # Fully connected layer\n",
        "    fc1 = tf.layers.dense(tf.layers.flatten(conv1), units=1024, activation='relu',\n",
        "                                         kernel_initializer=tf.contrib.layers.xavier_initializer(),\n",
        "                                         bias_initializer=tf.zeros_initializer())\n",
        "    # Apply Dropout\n",
        "    fc1 = tf.layers.dropout(fc1, rate=dropout)\n",
        "\n",
        "    # Output, class prediction\n",
        "    out = tf.layers.dense(fc1, units=10, activation=None,\n",
        "                                         kernel_initializer=tf.contrib.layers.xavier_initializer(),\n",
        "                                         bias_initializer=tf.zeros_initializer())\n",
        "                          \n",
        "    return out"
      ],
      "execution_count": 0,
      "outputs": []
    },
    {
      "metadata": {
        "id": "AbFNQrjSdjpb",
        "colab_type": "code",
        "colab": {
          "base_uri": "https://localhost:8080/",
          "height": 233
        },
        "outputId": "b8fb7037-4370-4477-e1be-7440d370fca4"
      },
      "cell_type": "code",
      "source": [
        "# Construct model\n",
        "pred = conv_net(x, weights, biases, keep_prob)\n",
        "\n",
        "# Define loss and optimizer\n",
        "loss = tf.reduce_mean(tf.nn.softmax_cross_entropy_with_logits(logits=pred, labels=y))\n",
        "optimizer = tf.train.AdamOptimizer(learning_rate=learning_rate).minimize(loss)\n",
        "\n",
        "# Evaluate model\n",
        "correct_pred = tf.equal(tf.argmax(pred, 1), tf.argmax(y, 1))\n",
        "accuracy = tf.reduce_mean(tf.cast(correct_pred, tf.float32))"
      ],
      "execution_count": 38,
      "outputs": [
        {
          "output_type": "stream",
          "text": [
            "Conv 1 =  Tensor(\"conv2d_6/Relu:0\", shape=(?, 28, 28, 32), dtype=float32)\n",
            "Conv 1 =  Tensor(\"max_pooling2d_5/MaxPool:0\", shape=(?, 14, 14, 32), dtype=float32)\n",
            "WARNING:tensorflow:From <ipython-input-37-80c3f6427c2d>:13: flatten (from tensorflow.python.layers.core) is deprecated and will be removed in a future version.\n",
            "Instructions for updating:\n",
            "Use keras.layers.flatten instead.\n",
            "WARNING:tensorflow:From <ipython-input-37-80c3f6427c2d>:15: dense (from tensorflow.python.layers.core) is deprecated and will be removed in a future version.\n",
            "Instructions for updating:\n",
            "Use keras.layers.dense instead.\n",
            "WARNING:tensorflow:From <ipython-input-37-80c3f6427c2d>:17: dropout (from tensorflow.python.layers.core) is deprecated and will be removed in a future version.\n",
            "Instructions for updating:\n",
            "Use keras.layers.dropout instead.\n"
          ],
          "name": "stdout"
        }
      ]
    },
    {
      "metadata": {
        "id": "YMYOpkQBdkOc",
        "colab_type": "code",
        "colab": {
          "base_uri": "https://localhost:8080/",
          "height": 835
        },
        "outputId": "41c13180-2822-4516-aa99-e08e889bb599"
      },
      "cell_type": "code",
      "source": [
        "# Launch the graph\n",
        "with tf.Session() as sess:\n",
        "    sess.run(tf.global_variables_initializer())\n",
        "    step = 1\n",
        "    # Keep training until reach max iterations\n",
        "    while step * batch_size < training_iters:\n",
        "        batch_x, batch_y = mnist.train.next_batch(batch_size)\n",
        "        # Run optimization op (backprop)\n",
        "        sess.run(optimizer, feed_dict={x: batch_x, y: batch_y, keep_prob: dropout})\n",
        "\n",
        "        if step % display_step == 0:\n",
        "            # Calculate batch loss and accuracy\n",
        "            l, acc = sess.run([loss, accuracy], feed_dict={x: batch_x,\n",
        "                                                              y: batch_y,\n",
        "                                                              keep_prob: 1.})\n",
        "            print(\"Iter \" + str(step*batch_size) + \", Minibatch Loss= \" + \\\n",
        "                  \"{:.6f}\".format(l) + \", Training Accuracy= \" + \\\n",
        "                  \"{:.5f}\".format(acc))\n",
        "        step += 1\n",
        "    print(\"Optimization Finished!\")\n",
        "\n",
        "    # Calculate accuracy for 256 mnist test images\n",
        "    \n",
        "    print(\"Testing Accuracy:\", \\\n",
        "        sess.run(accuracy, feed_dict={x: mnist.test.images[:256],\n",
        "                                      y: mnist.test.labels[:256], keep_prob: 1.}))\n",
        "\n",
        "    filters = sess.run(weights['wc1'])\n",
        "    f, a = plt.subplots(4, 8, figsize=(10, 10))\n",
        "    for i in range(32):\n",
        "        a[int(i/8)][i%8].imshow(np.reshape(filters[:,:,:,i], (5, 5)), cmap=\"gray\")\n",
        "    f.show()\n"
      ],
      "execution_count": 39,
      "outputs": [
        {
          "output_type": "stream",
          "text": [
            "Iter 1280, Minibatch Loss= 0.667637, Training Accuracy= 0.78125\n",
            "Iter 2560, Minibatch Loss= 0.278191, Training Accuracy= 0.93750\n",
            "Iter 3840, Minibatch Loss= 0.358409, Training Accuracy= 0.87500\n",
            "Iter 5120, Minibatch Loss= 0.237538, Training Accuracy= 0.91406\n",
            "Iter 6400, Minibatch Loss= 0.214712, Training Accuracy= 0.92188\n",
            "Iter 7680, Minibatch Loss= 0.178349, Training Accuracy= 0.93750\n",
            "Iter 8960, Minibatch Loss= 0.150882, Training Accuracy= 0.92969\n",
            "Iter 10240, Minibatch Loss= 0.155136, Training Accuracy= 0.96875\n",
            "Iter 11520, Minibatch Loss= 0.125937, Training Accuracy= 0.96094\n",
            "Iter 12800, Minibatch Loss= 0.141990, Training Accuracy= 0.96875\n",
            "Iter 14080, Minibatch Loss= 0.145106, Training Accuracy= 0.92969\n",
            "Iter 15360, Minibatch Loss= 0.158082, Training Accuracy= 0.96875\n",
            "Iter 16640, Minibatch Loss= 0.079253, Training Accuracy= 0.97656\n",
            "Iter 17920, Minibatch Loss= 0.057774, Training Accuracy= 0.98438\n",
            "Iter 19200, Minibatch Loss= 0.026165, Training Accuracy= 1.00000\n",
            "Optimization Finished!\n",
            "Testing Accuracy: 0.9921875\n"
          ],
          "name": "stdout"
        },
        {
          "output_type": "display_data",
          "data": {
            "image/png": "[encoded data removed]",
            "text/plain": [
              "<Figure size 720x720 with 32 Axes>"
            ]
          },
          "metadata": {
            "tags": []
          }
        }
      ]
    },
    {
      "metadata": {
        "id": "LANt0v84d8Ed",
        "colab_type": "code",
        "colab": {}
      },
      "cell_type": "code",
      "source": [
        ""
      ],
      "execution_count": 0,
      "outputs": []
    }
  ]
}